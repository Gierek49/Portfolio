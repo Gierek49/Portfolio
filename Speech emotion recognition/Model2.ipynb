{
 "cells": [
  {
   "cell_type": "markdown",
   "id": "54ebf4d4-dd52-4813-bb68-69d197b67a25",
   "metadata": {},
   "source": [
    "# Model 2 \n",
    "Trying to use more data from different data sets "
   ]
  },
  {
   "cell_type": "code",
   "execution_count": null,
   "id": "f5a23a54-07b7-4118-abd2-15abc1151953",
   "metadata": {},
   "outputs": [],
   "source": [
    "import pandas as pd\n",
    "import numpy as np\n",
    "\n",
    "import os\n",
    "import sys \n"
   ]
  }
 ],
 "metadata": {
  "kernelspec": {
   "display_name": "Python 3 (ipykernel)",
   "language": "python",
   "name": "python3"
  },
  "language_info": {
   "codemirror_mode": {
    "name": "ipython",
    "version": 3
   },
   "file_extension": ".py",
   "mimetype": "text/x-python",
   "name": "python",
   "nbconvert_exporter": "python",
   "pygments_lexer": "ipython3",
   "version": "3.10.11"
  }
 },
 "nbformat": 4,
 "nbformat_minor": 5
}
