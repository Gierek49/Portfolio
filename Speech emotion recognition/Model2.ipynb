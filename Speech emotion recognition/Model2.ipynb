{
 "cells": [
  {
   "cell_type": "markdown",
   "id": "54ebf4d4-dd52-4813-bb68-69d197b67a25",
   "metadata": {},
   "source": [
    "# Model 2 \n",
    "Trying to use more data from different data sets "
   ]
  },
  {
   "cell_type": "code",
   "execution_count": 3,
   "id": "f5a23a54-07b7-4118-abd2-15abc1151953",
   "metadata": {},
   "outputs": [],
   "source": [
    "import pandas as pd\n",
    "import numpy as np\n",
    "\n",
    "import os\n",
    "import sys\n",
    "\n",
    "#Libros for sound analysis\n",
    "import librosa\n",
    "import librosa.display \n",
    "import seaborn as sns\n",
    "import matplotlib.pyplot as plt\n",
    "\n",
    "#To play audio\n",
    "import IPython.display as ipd\n",
    "from IPython.display import Audio\n",
    "\n",
    "import tensorflow as tf \n",
    "\n",
    "import warnings\n",
    "if not sys.warnoptions:\n",
    "    warnings.simplefilter(\"ignore\")\n",
    "warnings.filterwarnings(\"ignore\", category=DeprecationWarning) \n"
   ]
  },
  {
   "cell_type": "markdown",
   "id": "3d60f261-6a12-4def-ad18-bce5016b4865",
   "metadata": {},
   "source": [
    "## Load Data"
   ]
  },
  {
   "cell_type": "markdown",
   "id": "c9fc945a-5b9d-47a8-ad98-67dafe11f5d0",
   "metadata": {},
   "source": [
    "### TESS"
   ]
  },
  {
   "cell_type": "code",
   "execution_count": 11,
   "id": "49662791-de29-4c21-9cef-2b91f44ba28b",
   "metadata": {},
   "outputs": [],
   "source": [
    "#Function from previous attempts\n",
    "def load_data(location: str):\n",
    "    path = []\n",
    "    labels = []\n",
    "    for dirname, _, filenames in os.walk(location):\n",
    "        for filename in filenames:\n",
    "            path.append(os.path.join(dirname,filename))\n",
    "            label = filename.split('_')[-1]\n",
    "            label = label.split('.')[0]\n",
    "            labels.append(label.lower())\n",
    "    df = pd.DataFrame() \n",
    "    df['File'] = path\n",
    "    df['Label'] = labels\n",
    "    return df"
   ]
  },
  {
   "cell_type": "code",
   "execution_count": 7,
   "id": "fc9cb4fe-fa94-4c83-b032-8d7c9074369a",
   "metadata": {},
   "outputs": [],
   "source": [
    "data_location = './Data/TESS Toronto emotional speech set data/'"
   ]
  },
  {
   "cell_type": "code",
   "execution_count": 20,
   "id": "dfd41a31-9e05-46ac-8b64-680d71b761d4",
   "metadata": {},
   "outputs": [],
   "source": [
    "tess_df = load_data(data_location)"
   ]
  },
  {
   "cell_type": "code",
   "execution_count": 21,
   "id": "eec12a1b-0832-469f-8ab4-8e7e560c6ab0",
   "metadata": {},
   "outputs": [
    {
     "data": {
      "text/html": [
       "<div>\n",
       "<style scoped>\n",
       "    .dataframe tbody tr th:only-of-type {\n",
       "        vertical-align: middle;\n",
       "    }\n",
       "\n",
       "    .dataframe tbody tr th {\n",
       "        vertical-align: top;\n",
       "    }\n",
       "\n",
       "    .dataframe thead th {\n",
       "        text-align: right;\n",
       "    }\n",
       "</style>\n",
       "<table border=\"1\" class=\"dataframe\">\n",
       "  <thead>\n",
       "    <tr style=\"text-align: right;\">\n",
       "      <th></th>\n",
       "      <th>File</th>\n",
       "      <th>Label</th>\n",
       "    </tr>\n",
       "  </thead>\n",
       "  <tbody>\n",
       "    <tr>\n",
       "      <th>0</th>\n",
       "      <td>./Data/TESS Toronto emotional speech set data/...</td>\n",
       "      <td>angry</td>\n",
       "    </tr>\n",
       "    <tr>\n",
       "      <th>1</th>\n",
       "      <td>./Data/TESS Toronto emotional speech set data/...</td>\n",
       "      <td>angry</td>\n",
       "    </tr>\n",
       "    <tr>\n",
       "      <th>2</th>\n",
       "      <td>./Data/TESS Toronto emotional speech set data/...</td>\n",
       "      <td>angry</td>\n",
       "    </tr>\n",
       "    <tr>\n",
       "      <th>3</th>\n",
       "      <td>./Data/TESS Toronto emotional speech set data/...</td>\n",
       "      <td>angry</td>\n",
       "    </tr>\n",
       "    <tr>\n",
       "      <th>4</th>\n",
       "      <td>./Data/TESS Toronto emotional speech set data/...</td>\n",
       "      <td>angry</td>\n",
       "    </tr>\n",
       "    <tr>\n",
       "      <th>...</th>\n",
       "      <td>...</td>\n",
       "      <td>...</td>\n",
       "    </tr>\n",
       "    <tr>\n",
       "      <th>2795</th>\n",
       "      <td>./Data/TESS Toronto emotional speech set data/...</td>\n",
       "      <td>sad</td>\n",
       "    </tr>\n",
       "    <tr>\n",
       "      <th>2796</th>\n",
       "      <td>./Data/TESS Toronto emotional speech set data/...</td>\n",
       "      <td>sad</td>\n",
       "    </tr>\n",
       "    <tr>\n",
       "      <th>2797</th>\n",
       "      <td>./Data/TESS Toronto emotional speech set data/...</td>\n",
       "      <td>sad</td>\n",
       "    </tr>\n",
       "    <tr>\n",
       "      <th>2798</th>\n",
       "      <td>./Data/TESS Toronto emotional speech set data/...</td>\n",
       "      <td>sad</td>\n",
       "    </tr>\n",
       "    <tr>\n",
       "      <th>2799</th>\n",
       "      <td>./Data/TESS Toronto emotional speech set data/...</td>\n",
       "      <td>sad</td>\n",
       "    </tr>\n",
       "  </tbody>\n",
       "</table>\n",
       "<p>2800 rows × 2 columns</p>\n",
       "</div>"
      ],
      "text/plain": [
       "                                                   File  Label\n",
       "0     ./Data/TESS Toronto emotional speech set data/...  angry\n",
       "1     ./Data/TESS Toronto emotional speech set data/...  angry\n",
       "2     ./Data/TESS Toronto emotional speech set data/...  angry\n",
       "3     ./Data/TESS Toronto emotional speech set data/...  angry\n",
       "4     ./Data/TESS Toronto emotional speech set data/...  angry\n",
       "...                                                 ...    ...\n",
       "2795  ./Data/TESS Toronto emotional speech set data/...    sad\n",
       "2796  ./Data/TESS Toronto emotional speech set data/...    sad\n",
       "2797  ./Data/TESS Toronto emotional speech set data/...    sad\n",
       "2798  ./Data/TESS Toronto emotional speech set data/...    sad\n",
       "2799  ./Data/TESS Toronto emotional speech set data/...    sad\n",
       "\n",
       "[2800 rows x 2 columns]"
      ]
     },
     "execution_count": 21,
     "metadata": {},
     "output_type": "execute_result"
    }
   ],
   "source": [
    "tess_df"
   ]
  },
  {
   "cell_type": "markdown",
   "id": "d9191dd3-1e5d-490f-81f4-63d26b1e68ba",
   "metadata": {},
   "source": [
    "### Ravdess"
   ]
  },
  {
   "cell_type": "code",
   "execution_count": 12,
   "id": "f17f86ad-38a5-458a-a660-a3f09d945c3d",
   "metadata": {},
   "outputs": [],
   "source": [
    "ravdess = \"./Data/Ravdess/audio_speech_actors_01-24/\"\n",
    "ravdes_directory_list = os.listdir(ravdess)"
   ]
  },
  {
   "cell_type": "code",
   "execution_count": 17,
   "id": "60328f05-d48f-474d-9d5d-9c5ee614b795",
   "metadata": {},
   "outputs": [],
   "source": [
    "ravdess_labels = []\n",
    "ravdess_path = []\n",
    "for i in ravdes_directory_list:\n",
    "    actor = os.listdir(ravdess + i)\n",
    "    for f in actor:\n",
    "        part = f.split('.')[0].split('-')\n",
    "        ravdess_labels.append(int(part[2]))\n",
    "        ravdess_path.append(ravdess + i + '/'+ f)"
   ]
  },
  {
   "cell_type": "code",
   "execution_count": 19,
   "id": "daa82324-b89c-4b85-981e-8ec7494cf529",
   "metadata": {},
   "outputs": [
    {
     "name": "stdout",
     "output_type": "stream",
     "text": [
      "1\n",
      "./Data/Ravdess/audio_speech_actors_01-24/Actor_01/03-01-01-01-01-01-01.wav\n"
     ]
    }
   ],
   "source": [
    "print(ravdess_labels[0])\n",
    "print(ravdess_path[0])"
   ]
  },
  {
   "cell_type": "code",
   "execution_count": 22,
   "id": "747bc9e4-ec46-4f52-bfd2-288919bfe1fa",
   "metadata": {},
   "outputs": [
    {
     "data": {
      "text/html": [
       "<div>\n",
       "<style scoped>\n",
       "    .dataframe tbody tr th:only-of-type {\n",
       "        vertical-align: middle;\n",
       "    }\n",
       "\n",
       "    .dataframe tbody tr th {\n",
       "        vertical-align: top;\n",
       "    }\n",
       "\n",
       "    .dataframe thead th {\n",
       "        text-align: right;\n",
       "    }\n",
       "</style>\n",
       "<table border=\"1\" class=\"dataframe\">\n",
       "  <thead>\n",
       "    <tr style=\"text-align: right;\">\n",
       "      <th></th>\n",
       "      <th>File</th>\n",
       "      <th>Label</th>\n",
       "    </tr>\n",
       "  </thead>\n",
       "  <tbody>\n",
       "    <tr>\n",
       "      <th>0</th>\n",
       "      <td>./Data/Ravdess/audio_speech_actors_01-24/Actor...</td>\n",
       "      <td>1</td>\n",
       "    </tr>\n",
       "    <tr>\n",
       "      <th>1</th>\n",
       "      <td>./Data/Ravdess/audio_speech_actors_01-24/Actor...</td>\n",
       "      <td>1</td>\n",
       "    </tr>\n",
       "    <tr>\n",
       "      <th>2</th>\n",
       "      <td>./Data/Ravdess/audio_speech_actors_01-24/Actor...</td>\n",
       "      <td>1</td>\n",
       "    </tr>\n",
       "    <tr>\n",
       "      <th>3</th>\n",
       "      <td>./Data/Ravdess/audio_speech_actors_01-24/Actor...</td>\n",
       "      <td>1</td>\n",
       "    </tr>\n",
       "    <tr>\n",
       "      <th>4</th>\n",
       "      <td>./Data/Ravdess/audio_speech_actors_01-24/Actor...</td>\n",
       "      <td>2</td>\n",
       "    </tr>\n",
       "    <tr>\n",
       "      <th>...</th>\n",
       "      <td>...</td>\n",
       "      <td>...</td>\n",
       "    </tr>\n",
       "    <tr>\n",
       "      <th>1435</th>\n",
       "      <td>./Data/Ravdess/audio_speech_actors_01-24/Actor...</td>\n",
       "      <td>8</td>\n",
       "    </tr>\n",
       "    <tr>\n",
       "      <th>1436</th>\n",
       "      <td>./Data/Ravdess/audio_speech_actors_01-24/Actor...</td>\n",
       "      <td>8</td>\n",
       "    </tr>\n",
       "    <tr>\n",
       "      <th>1437</th>\n",
       "      <td>./Data/Ravdess/audio_speech_actors_01-24/Actor...</td>\n",
       "      <td>8</td>\n",
       "    </tr>\n",
       "    <tr>\n",
       "      <th>1438</th>\n",
       "      <td>./Data/Ravdess/audio_speech_actors_01-24/Actor...</td>\n",
       "      <td>8</td>\n",
       "    </tr>\n",
       "    <tr>\n",
       "      <th>1439</th>\n",
       "      <td>./Data/Ravdess/audio_speech_actors_01-24/Actor...</td>\n",
       "      <td>8</td>\n",
       "    </tr>\n",
       "  </tbody>\n",
       "</table>\n",
       "<p>1440 rows × 2 columns</p>\n",
       "</div>"
      ],
      "text/plain": [
       "                                                   File  Label\n",
       "0     ./Data/Ravdess/audio_speech_actors_01-24/Actor...      1\n",
       "1     ./Data/Ravdess/audio_speech_actors_01-24/Actor...      1\n",
       "2     ./Data/Ravdess/audio_speech_actors_01-24/Actor...      1\n",
       "3     ./Data/Ravdess/audio_speech_actors_01-24/Actor...      1\n",
       "4     ./Data/Ravdess/audio_speech_actors_01-24/Actor...      2\n",
       "...                                                 ...    ...\n",
       "1435  ./Data/Ravdess/audio_speech_actors_01-24/Actor...      8\n",
       "1436  ./Data/Ravdess/audio_speech_actors_01-24/Actor...      8\n",
       "1437  ./Data/Ravdess/audio_speech_actors_01-24/Actor...      8\n",
       "1438  ./Data/Ravdess/audio_speech_actors_01-24/Actor...      8\n",
       "1439  ./Data/Ravdess/audio_speech_actors_01-24/Actor...      8\n",
       "\n",
       "[1440 rows x 2 columns]"
      ]
     },
     "execution_count": 22,
     "metadata": {},
     "output_type": "execute_result"
    }
   ],
   "source": [
    "file_df = pd.DataFrame(ravdess_path,columns=['File'])\n",
    "label_df = pd.DataFrame(ravdess_labels,columns=['Label'])\n",
    "ravdess_df = pd.concat([file_df,label_df],axis=1)\n",
    "ravdess_df"
   ]
  },
  {
   "cell_type": "code",
   "execution_count": 23,
   "id": "7b4b450a-2c11-430a-bab1-596d0f139e15",
   "metadata": {},
   "outputs": [
    {
     "data": {
      "text/plain": [
       "0         neutral\n",
       "1         neutral\n",
       "2         neutral\n",
       "3         neutral\n",
       "4            calm\n",
       "          ...    \n",
       "1435    surprised\n",
       "1436    surprised\n",
       "1437    surprised\n",
       "1438    surprised\n",
       "1439    surprised\n",
       "Name: Label, Length: 1440, dtype: object"
      ]
     },
     "execution_count": 23,
     "metadata": {},
     "output_type": "execute_result"
    }
   ],
   "source": [
    "ravdess_df.Label.replace({\n",
    "    1 :'neutral', 2 :'calm', 3:'happy', 4:'sad', 5:'angry', 6:'fearful', 7:'disgust', 8:'surprised'\n",
    "})"
   ]
  },
  {
   "cell_type": "code",
   "execution_count": null,
   "id": "dc9defe8-d09b-45e8-b901-19cf792fd80e",
   "metadata": {},
   "outputs": [],
   "source": [
    "ravdess_df"
   ]
  }
 ],
 "metadata": {
  "kernelspec": {
   "display_name": "Python 3 (ipykernel)",
   "language": "python",
   "name": "python3"
  },
  "language_info": {
   "codemirror_mode": {
    "name": "ipython",
    "version": 3
   },
   "file_extension": ".py",
   "mimetype": "text/x-python",
   "name": "python",
   "nbconvert_exporter": "python",
   "pygments_lexer": "ipython3",
   "version": "3.10.11"
  }
 },
 "nbformat": 4,
 "nbformat_minor": 5
}
