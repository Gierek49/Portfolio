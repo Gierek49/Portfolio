{
 "cells": [
  {
   "cell_type": "markdown",
   "id": "54ebf4d4-dd52-4813-bb68-69d197b67a25",
   "metadata": {},
   "source": [
    "# Model 2 \n",
    "Trying to use more data from different data sets "
   ]
  },
  {
   "cell_type": "code",
   "execution_count": 68,
   "id": "f5a23a54-07b7-4118-abd2-15abc1151953",
   "metadata": {},
   "outputs": [],
   "source": [
    "import pandas as pd\n",
    "import numpy as np\n",
    "\n",
    "import os\n",
    "import sys\n",
    "import re\n",
    "\n",
    "#Libros for sound analysis\n",
    "import librosa\n",
    "import librosa.display \n",
    "import seaborn as sns\n",
    "import matplotlib.pyplot as plt\n",
    "\n",
    "#To play audio\n",
    "import IPython.display as ipd\n",
    "from IPython.display import Audio\n",
    "\n",
    "import tensorflow as tf \n",
    "\n",
    "import warnings\n",
    "if not sys.warnoptions:\n",
    "    warnings.simplefilter(\"ignore\")\n",
    "warnings.filterwarnings(\"ignore\", category=DeprecationWarning) \n"
   ]
  },
  {
   "cell_type": "markdown",
   "id": "3d60f261-6a12-4def-ad18-bce5016b4865",
   "metadata": {},
   "source": [
    "## Create Data set"
   ]
  },
  {
   "cell_type": "markdown",
   "id": "c9fc945a-5b9d-47a8-ad98-67dafe11f5d0",
   "metadata": {},
   "source": [
    "### TESS"
   ]
  },
  {
   "cell_type": "code",
   "execution_count": 11,
   "id": "49662791-de29-4c21-9cef-2b91f44ba28b",
   "metadata": {},
   "outputs": [],
   "source": [
    "#Function from previous attempts\n",
    "def load_data(location: str):\n",
    "    path = []\n",
    "    labels = []\n",
    "    for dirname, _, filenames in os.walk(location):\n",
    "        for filename in filenames:\n",
    "            path.append(os.path.join(dirname,filename))\n",
    "            label = filename.split('_')[-1]\n",
    "            label = label.split('.')[0]\n",
    "            labels.append(label.lower())\n",
    "    df = pd.DataFrame() \n",
    "    df['File'] = path\n",
    "    df['Label'] = labels\n",
    "    return df"
   ]
  },
  {
   "cell_type": "code",
   "execution_count": 7,
   "id": "fc9cb4fe-fa94-4c83-b032-8d7c9074369a",
   "metadata": {},
   "outputs": [],
   "source": [
    "data_location = './Data/TESS Toronto emotional speech set data/'"
   ]
  },
  {
   "cell_type": "code",
   "execution_count": 20,
   "id": "dfd41a31-9e05-46ac-8b64-680d71b761d4",
   "metadata": {},
   "outputs": [],
   "source": [
    "tess_df = load_data(data_location)"
   ]
  },
  {
   "cell_type": "code",
   "execution_count": 118,
   "id": "32608233-e734-4c77-a222-337206bccf5d",
   "metadata": {},
   "outputs": [],
   "source": [
    "tess_df.loc[tess_df.Label=='ps','Label']='surprised'"
   ]
  },
  {
   "cell_type": "code",
   "execution_count": 119,
   "id": "eec12a1b-0832-469f-8ab4-8e7e560c6ab0",
   "metadata": {},
   "outputs": [
    {
     "data": {
      "text/plain": [
       "Label\n",
       "angry        400\n",
       "disgust      400\n",
       "fear         400\n",
       "happy        400\n",
       "neutral      400\n",
       "surprised    400\n",
       "sad          400\n",
       "Name: count, dtype: int64"
      ]
     },
     "execution_count": 119,
     "metadata": {},
     "output_type": "execute_result"
    }
   ],
   "source": [
    "tess_df.Label.value_counts()"
   ]
  },
  {
   "cell_type": "markdown",
   "id": "d9191dd3-1e5d-490f-81f4-63d26b1e68ba",
   "metadata": {},
   "source": [
    "### RAVDESS"
   ]
  },
  {
   "cell_type": "code",
   "execution_count": 155,
   "id": "f17f86ad-38a5-458a-a660-a3f09d945c3d",
   "metadata": {},
   "outputs": [],
   "source": [
    "ravdess = \"./Data/Ravdess/audio_speech_actors_01-24/\"\n",
    "ravdes_directory_list = os.listdir(ravdess)"
   ]
  },
  {
   "cell_type": "code",
   "execution_count": 156,
   "id": "60328f05-d48f-474d-9d5d-9c5ee614b795",
   "metadata": {},
   "outputs": [],
   "source": [
    "ravdess_labels = []\n",
    "ravdess_path = []\n",
    "for i in ravdes_directory_list:\n",
    "    actor = os.listdir(ravdess + i)\n",
    "    for f in actor:\n",
    "        part = f.split('.')[0].split('-')\n",
    "        ravdess_labels.append(int(part[2]))\n",
    "        ravdess_path.append(ravdess + i + '/'+ f)"
   ]
  },
  {
   "cell_type": "code",
   "execution_count": 157,
   "id": "daa82324-b89c-4b85-981e-8ec7494cf529",
   "metadata": {},
   "outputs": [
    {
     "name": "stdout",
     "output_type": "stream",
     "text": [
      "1\n",
      "./Data/Ravdess/audio_speech_actors_01-24/Actor_01/03-01-01-01-01-01-01.wav\n"
     ]
    }
   ],
   "source": [
    "print(ravdess_labels[0])\n",
    "print(ravdess_path[0])"
   ]
  },
  {
   "cell_type": "code",
   "execution_count": 158,
   "id": "747bc9e4-ec46-4f52-bfd2-288919bfe1fa",
   "metadata": {},
   "outputs": [
    {
     "data": {
      "text/html": [
       "<div>\n",
       "<style scoped>\n",
       "    .dataframe tbody tr th:only-of-type {\n",
       "        vertical-align: middle;\n",
       "    }\n",
       "\n",
       "    .dataframe tbody tr th {\n",
       "        vertical-align: top;\n",
       "    }\n",
       "\n",
       "    .dataframe thead th {\n",
       "        text-align: right;\n",
       "    }\n",
       "</style>\n",
       "<table border=\"1\" class=\"dataframe\">\n",
       "  <thead>\n",
       "    <tr style=\"text-align: right;\">\n",
       "      <th></th>\n",
       "      <th>File</th>\n",
       "      <th>Label</th>\n",
       "    </tr>\n",
       "  </thead>\n",
       "  <tbody>\n",
       "    <tr>\n",
       "      <th>0</th>\n",
       "      <td>./Data/Ravdess/audio_speech_actors_01-24/Actor...</td>\n",
       "      <td>1</td>\n",
       "    </tr>\n",
       "    <tr>\n",
       "      <th>1</th>\n",
       "      <td>./Data/Ravdess/audio_speech_actors_01-24/Actor...</td>\n",
       "      <td>1</td>\n",
       "    </tr>\n",
       "    <tr>\n",
       "      <th>2</th>\n",
       "      <td>./Data/Ravdess/audio_speech_actors_01-24/Actor...</td>\n",
       "      <td>1</td>\n",
       "    </tr>\n",
       "    <tr>\n",
       "      <th>3</th>\n",
       "      <td>./Data/Ravdess/audio_speech_actors_01-24/Actor...</td>\n",
       "      <td>1</td>\n",
       "    </tr>\n",
       "    <tr>\n",
       "      <th>4</th>\n",
       "      <td>./Data/Ravdess/audio_speech_actors_01-24/Actor...</td>\n",
       "      <td>2</td>\n",
       "    </tr>\n",
       "    <tr>\n",
       "      <th>...</th>\n",
       "      <td>...</td>\n",
       "      <td>...</td>\n",
       "    </tr>\n",
       "    <tr>\n",
       "      <th>1435</th>\n",
       "      <td>./Data/Ravdess/audio_speech_actors_01-24/Actor...</td>\n",
       "      <td>8</td>\n",
       "    </tr>\n",
       "    <tr>\n",
       "      <th>1436</th>\n",
       "      <td>./Data/Ravdess/audio_speech_actors_01-24/Actor...</td>\n",
       "      <td>8</td>\n",
       "    </tr>\n",
       "    <tr>\n",
       "      <th>1437</th>\n",
       "      <td>./Data/Ravdess/audio_speech_actors_01-24/Actor...</td>\n",
       "      <td>8</td>\n",
       "    </tr>\n",
       "    <tr>\n",
       "      <th>1438</th>\n",
       "      <td>./Data/Ravdess/audio_speech_actors_01-24/Actor...</td>\n",
       "      <td>8</td>\n",
       "    </tr>\n",
       "    <tr>\n",
       "      <th>1439</th>\n",
       "      <td>./Data/Ravdess/audio_speech_actors_01-24/Actor...</td>\n",
       "      <td>8</td>\n",
       "    </tr>\n",
       "  </tbody>\n",
       "</table>\n",
       "<p>1440 rows × 2 columns</p>\n",
       "</div>"
      ],
      "text/plain": [
       "                                                   File  Label\n",
       "0     ./Data/Ravdess/audio_speech_actors_01-24/Actor...      1\n",
       "1     ./Data/Ravdess/audio_speech_actors_01-24/Actor...      1\n",
       "2     ./Data/Ravdess/audio_speech_actors_01-24/Actor...      1\n",
       "3     ./Data/Ravdess/audio_speech_actors_01-24/Actor...      1\n",
       "4     ./Data/Ravdess/audio_speech_actors_01-24/Actor...      2\n",
       "...                                                 ...    ...\n",
       "1435  ./Data/Ravdess/audio_speech_actors_01-24/Actor...      8\n",
       "1436  ./Data/Ravdess/audio_speech_actors_01-24/Actor...      8\n",
       "1437  ./Data/Ravdess/audio_speech_actors_01-24/Actor...      8\n",
       "1438  ./Data/Ravdess/audio_speech_actors_01-24/Actor...      8\n",
       "1439  ./Data/Ravdess/audio_speech_actors_01-24/Actor...      8\n",
       "\n",
       "[1440 rows x 2 columns]"
      ]
     },
     "execution_count": 158,
     "metadata": {},
     "output_type": "execute_result"
    }
   ],
   "source": [
    "file_df = pd.DataFrame(ravdess_path,columns=['File'])\n",
    "label_df = pd.DataFrame(ravdess_labels,columns=['Label'])\n",
    "ravdess_df = pd.concat([file_df,label_df],axis=1)\n",
    "ravdess_df"
   ]
  },
  {
   "cell_type": "code",
   "execution_count": 159,
   "id": "7b4b450a-2c11-430a-bab1-596d0f139e15",
   "metadata": {},
   "outputs": [],
   "source": [
    "ravdess_df.Label.replace({\n",
    "    1 :'neutral', 2 :'calm', 3:'happy', 4:'sad', 5:'angry', 6:'fear', 7:'disgust', 8:'surprised'\n",
    "},inplace=True)"
   ]
  },
  {
   "cell_type": "code",
   "execution_count": 160,
   "id": "dc9defe8-d09b-45e8-b901-19cf792fd80e",
   "metadata": {},
   "outputs": [
    {
     "data": {
      "text/plain": [
       "Label\n",
       "calm         192\n",
       "happy        192\n",
       "sad          192\n",
       "angry        192\n",
       "fear         192\n",
       "disgust      192\n",
       "surprised    192\n",
       "neutral       96\n",
       "Name: count, dtype: int64"
      ]
     },
     "execution_count": 160,
     "metadata": {},
     "output_type": "execute_result"
    }
   ],
   "source": [
    "ravdess_df.Label.value_counts()"
   ]
  },
  {
   "cell_type": "code",
   "execution_count": 139,
   "id": "40193e2a-eca7-4a46-b613-2b749766ffe3",
   "metadata": {},
   "outputs": [
    {
     "data": {
      "text/html": [
       "<div>\n",
       "<style scoped>\n",
       "    .dataframe tbody tr th:only-of-type {\n",
       "        vertical-align: middle;\n",
       "    }\n",
       "\n",
       "    .dataframe tbody tr th {\n",
       "        vertical-align: top;\n",
       "    }\n",
       "\n",
       "    .dataframe thead th {\n",
       "        text-align: right;\n",
       "    }\n",
       "</style>\n",
       "<table border=\"1\" class=\"dataframe\">\n",
       "  <thead>\n",
       "    <tr style=\"text-align: right;\">\n",
       "      <th></th>\n",
       "      <th>File</th>\n",
       "      <th>Label</th>\n",
       "    </tr>\n",
       "  </thead>\n",
       "  <tbody>\n",
       "    <tr>\n",
       "      <th>0</th>\n",
       "      <td>./Data/Ravdess/audio_speech_actors_01-24/Actor...</td>\n",
       "      <td>neutral</td>\n",
       "    </tr>\n",
       "    <tr>\n",
       "      <th>1</th>\n",
       "      <td>./Data/Ravdess/audio_speech_actors_01-24/Actor...</td>\n",
       "      <td>neutral</td>\n",
       "    </tr>\n",
       "    <tr>\n",
       "      <th>2</th>\n",
       "      <td>./Data/Ravdess/audio_speech_actors_01-24/Actor...</td>\n",
       "      <td>neutral</td>\n",
       "    </tr>\n",
       "    <tr>\n",
       "      <th>3</th>\n",
       "      <td>./Data/Ravdess/audio_speech_actors_01-24/Actor...</td>\n",
       "      <td>neutral</td>\n",
       "    </tr>\n",
       "    <tr>\n",
       "      <th>4</th>\n",
       "      <td>./Data/Ravdess/audio_speech_actors_01-24/Actor...</td>\n",
       "      <td>calm</td>\n",
       "    </tr>\n",
       "    <tr>\n",
       "      <th>...</th>\n",
       "      <td>...</td>\n",
       "      <td>...</td>\n",
       "    </tr>\n",
       "    <tr>\n",
       "      <th>1435</th>\n",
       "      <td>./Data/Ravdess/audio_speech_actors_01-24/Actor...</td>\n",
       "      <td>surprised</td>\n",
       "    </tr>\n",
       "    <tr>\n",
       "      <th>1436</th>\n",
       "      <td>./Data/Ravdess/audio_speech_actors_01-24/Actor...</td>\n",
       "      <td>surprised</td>\n",
       "    </tr>\n",
       "    <tr>\n",
       "      <th>1437</th>\n",
       "      <td>./Data/Ravdess/audio_speech_actors_01-24/Actor...</td>\n",
       "      <td>surprised</td>\n",
       "    </tr>\n",
       "    <tr>\n",
       "      <th>1438</th>\n",
       "      <td>./Data/Ravdess/audio_speech_actors_01-24/Actor...</td>\n",
       "      <td>surprised</td>\n",
       "    </tr>\n",
       "    <tr>\n",
       "      <th>1439</th>\n",
       "      <td>./Data/Ravdess/audio_speech_actors_01-24/Actor...</td>\n",
       "      <td>surprised</td>\n",
       "    </tr>\n",
       "  </tbody>\n",
       "</table>\n",
       "<p>1440 rows × 2 columns</p>\n",
       "</div>"
      ],
      "text/plain": [
       "                                                   File      Label\n",
       "0     ./Data/Ravdess/audio_speech_actors_01-24/Actor...    neutral\n",
       "1     ./Data/Ravdess/audio_speech_actors_01-24/Actor...    neutral\n",
       "2     ./Data/Ravdess/audio_speech_actors_01-24/Actor...    neutral\n",
       "3     ./Data/Ravdess/audio_speech_actors_01-24/Actor...    neutral\n",
       "4     ./Data/Ravdess/audio_speech_actors_01-24/Actor...       calm\n",
       "...                                                 ...        ...\n",
       "1435  ./Data/Ravdess/audio_speech_actors_01-24/Actor...  surprised\n",
       "1436  ./Data/Ravdess/audio_speech_actors_01-24/Actor...  surprised\n",
       "1437  ./Data/Ravdess/audio_speech_actors_01-24/Actor...  surprised\n",
       "1438  ./Data/Ravdess/audio_speech_actors_01-24/Actor...  surprised\n",
       "1439  ./Data/Ravdess/audio_speech_actors_01-24/Actor...  surprised\n",
       "\n",
       "[1440 rows x 2 columns]"
      ]
     },
     "execution_count": 139,
     "metadata": {},
     "output_type": "execute_result"
    }
   ],
   "source": [
    "ravdess_df"
   ]
  },
  {
   "cell_type": "markdown",
   "id": "754e7ed2-2205-4533-98ed-089dbdabcb62",
   "metadata": {},
   "source": [
    "### CREMA"
   ]
  },
  {
   "cell_type": "code",
   "execution_count": 162,
   "id": "bb0feeb6-35be-44ea-8e71-02b35778883b",
   "metadata": {},
   "outputs": [],
   "source": [
    "crema = './Data/Crema/'\n",
    "crema_dir = os.listdir(crema)"
   ]
  },
  {
   "cell_type": "code",
   "execution_count": 163,
   "id": "5b3f91ec-8405-47e9-97dd-31502f917649",
   "metadata": {},
   "outputs": [],
   "source": [
    "crema_file = []\n",
    "crema_label = []"
   ]
  },
  {
   "cell_type": "code",
   "execution_count": 164,
   "id": "e0517cc3-8f74-475b-b0e9-087230390866",
   "metadata": {},
   "outputs": [],
   "source": [
    "for file in crema_dir:\n",
    "    crema_file.append(crema+file)\n",
    "    part = file.split('_')\n",
    "    l_label = part[2]\n",
    "    match l_label:\n",
    "        case 'SAD':\n",
    "            crema_label.append('sad')\n",
    "        case 'ANG':\n",
    "            crema_label.append('angry')\n",
    "        case 'DIS':\n",
    "            crema_label.append('disgust')\n",
    "        case 'FEA':\n",
    "            crema_label.append('fear')\n",
    "        case 'HAP':\n",
    "            crema_label.append('happy')\n",
    "        case 'NEU':\n",
    "            crema_label.append('neutral')"
   ]
  },
  {
   "cell_type": "code",
   "execution_count": 165,
   "id": "20650b14-0025-420a-8526-934c15e180ff",
   "metadata": {},
   "outputs": [],
   "source": [
    "crema_file_df = pd.DataFrame(crema_file,columns=['File'])\n",
    "crema_label_df = pd.DataFrame(crema_label,columns=['Label'])\n",
    "crema_df = pd.concat([crema_file_df,crema_label_df],axis=1)"
   ]
  },
  {
   "cell_type": "code",
   "execution_count": 166,
   "id": "eb924d76-3796-4275-8796-8b13eaf91fcd",
   "metadata": {},
   "outputs": [
    {
     "data": {
      "text/plain": [
       "Label\n",
       "angry      1271\n",
       "disgust    1271\n",
       "fear       1271\n",
       "happy      1271\n",
       "sad        1271\n",
       "neutral    1087\n",
       "Name: count, dtype: int64"
      ]
     },
     "execution_count": 166,
     "metadata": {},
     "output_type": "execute_result"
    }
   ],
   "source": [
    "crema_df.Label.value_counts()"
   ]
  },
  {
   "cell_type": "markdown",
   "id": "32657115-c2a7-48f6-8e34-e9699b3cdeba",
   "metadata": {},
   "source": [
    "### Savee"
   ]
  },
  {
   "cell_type": "code",
   "execution_count": 167,
   "id": "5cdbf2e6-892a-4532-9ff0-eae558d79fc7",
   "metadata": {},
   "outputs": [],
   "source": [
    "savee = './Data/Savee/'\n",
    "savee_dir = os.listdir(savee)"
   ]
  },
  {
   "cell_type": "code",
   "execution_count": 168,
   "id": "def32961-9a03-4580-94e6-75dab561d5cb",
   "metadata": {},
   "outputs": [],
   "source": [
    "savee_file = []\n",
    "savee_label = []"
   ]
  },
  {
   "cell_type": "code",
   "execution_count": 169,
   "id": "4b2d4363-ad42-43d7-a226-c8609c35250b",
   "metadata": {},
   "outputs": [],
   "source": [
    "for file in savee_dir:\n",
    "    savee_file.append(savee+file)\n",
    "    part = file.split('_')[1].split('.')\n",
    "    s_label = re.sub('[^a-z]','',part[0])\n",
    "    match s_label:\n",
    "        case 'a':\n",
    "            savee_label.append('angry')\n",
    "        case 'd':\n",
    "            savee_label.append('disgust')\n",
    "        case 'f':\n",
    "            savee_label.append('fear')\n",
    "        case 'h':\n",
    "            savee_label.append('happy')\n",
    "        case 'n':\n",
    "            savee_label.append('neutral')\n",
    "        case 'sa':\n",
    "            savee_label.append('sad')\n",
    "        case 'su':\n",
    "            savee_label.append('surprised')"
   ]
  },
  {
   "cell_type": "code",
   "execution_count": 170,
   "id": "e5ebbf57-febd-49c8-b434-d9a0a601a2a6",
   "metadata": {},
   "outputs": [],
   "source": [
    "savee_file_df = pd.DataFrame(savee_file,columns=['File'])\n",
    "savee_label_df = pd.DataFrame(savee_label,columns=['Label'])\n",
    "savee_df = pd.concat([savee_file_df,savee_label_df],axis=1)"
   ]
  },
  {
   "cell_type": "code",
   "execution_count": 171,
   "id": "676d028b-ba33-491d-98d2-7f879bc46885",
   "metadata": {},
   "outputs": [
    {
     "data": {
      "text/plain": [
       "Label\n",
       "neutral      120\n",
       "angry         60\n",
       "disgust       60\n",
       "fear          60\n",
       "happy         60\n",
       "sad           60\n",
       "surprised     60\n",
       "Name: count, dtype: int64"
      ]
     },
     "execution_count": 171,
     "metadata": {},
     "output_type": "execute_result"
    }
   ],
   "source": [
    "savee_df.Label.value_counts()"
   ]
  },
  {
   "cell_type": "markdown",
   "id": "c6f44a3b-0925-4be0-95fe-bee51c1f5ca8",
   "metadata": {},
   "source": [
    "### Concat datasets"
   ]
  },
  {
   "cell_type": "code",
   "execution_count": 172,
   "id": "10e6ead3-c1fc-45ff-9a1b-14ac97edc5f3",
   "metadata": {},
   "outputs": [],
   "source": [
    "data_sets = pd.concat([tess_df,ravdess_df,crema_df,savee_df],axis=0)"
   ]
  },
  {
   "cell_type": "code",
   "execution_count": 173,
   "id": "dc22b6d0-82b7-4a30-a556-6c8538a64d69",
   "metadata": {},
   "outputs": [],
   "source": [
    "data = data_sets.reset_index(drop=True)"
   ]
  },
  {
   "cell_type": "code",
   "execution_count": 174,
   "id": "29fcc9fb-b3ed-444b-9952-68659ce5d75d",
   "metadata": {},
   "outputs": [
    {
     "data": {
      "text/plain": [
       "Label\n",
       "angry        1923\n",
       "disgust      1923\n",
       "fear         1923\n",
       "happy        1923\n",
       "sad          1923\n",
       "neutral      1703\n",
       "surprised     652\n",
       "calm          192\n",
       "Name: count, dtype: int64"
      ]
     },
     "execution_count": 174,
     "metadata": {},
     "output_type": "execute_result"
    }
   ],
   "source": [
    "data.Label.value_counts()"
   ]
  },
  {
   "cell_type": "code",
   "execution_count": 177,
   "id": "f41e3ff4-2fcf-4b71-8150-6f23d2ad62d8",
   "metadata": {},
   "outputs": [
    {
     "data": {
      "text/plain": [
       "(12162, 2)"
      ]
     },
     "execution_count": 177,
     "metadata": {},
     "output_type": "execute_result"
    }
   ],
   "source": [
    "data.shape"
   ]
  },
  {
   "cell_type": "code",
   "execution_count": 178,
   "id": "1ea15693-8d2b-4fea-8de4-5a17d03dca24",
   "metadata": {},
   "outputs": [],
   "source": [
    "data.to_csv('./Data/datset1.csv',index=False)"
   ]
  },
  {
   "cell_type": "markdown",
   "id": "e643a9fa-56c1-4484-be72-b01732a968d1",
   "metadata": {},
   "source": [
    "## Load data"
   ]
  },
  {
   "cell_type": "code",
   "execution_count": 179,
   "id": "ca992189-f7f0-4e62-ae14-fb193a2de582",
   "metadata": {},
   "outputs": [
    {
     "data": {
      "text/html": [
       "<div>\n",
       "<style scoped>\n",
       "    .dataframe tbody tr th:only-of-type {\n",
       "        vertical-align: middle;\n",
       "    }\n",
       "\n",
       "    .dataframe tbody tr th {\n",
       "        vertical-align: top;\n",
       "    }\n",
       "\n",
       "    .dataframe thead th {\n",
       "        text-align: right;\n",
       "    }\n",
       "</style>\n",
       "<table border=\"1\" class=\"dataframe\">\n",
       "  <thead>\n",
       "    <tr style=\"text-align: right;\">\n",
       "      <th></th>\n",
       "      <th>File</th>\n",
       "      <th>Label</th>\n",
       "    </tr>\n",
       "  </thead>\n",
       "  <tbody>\n",
       "    <tr>\n",
       "      <th>0</th>\n",
       "      <td>./Data/TESS Toronto emotional speech set data/...</td>\n",
       "      <td>angry</td>\n",
       "    </tr>\n",
       "    <tr>\n",
       "      <th>1</th>\n",
       "      <td>./Data/TESS Toronto emotional speech set data/...</td>\n",
       "      <td>angry</td>\n",
       "    </tr>\n",
       "    <tr>\n",
       "      <th>2</th>\n",
       "      <td>./Data/TESS Toronto emotional speech set data/...</td>\n",
       "      <td>angry</td>\n",
       "    </tr>\n",
       "    <tr>\n",
       "      <th>3</th>\n",
       "      <td>./Data/TESS Toronto emotional speech set data/...</td>\n",
       "      <td>angry</td>\n",
       "    </tr>\n",
       "    <tr>\n",
       "      <th>4</th>\n",
       "      <td>./Data/TESS Toronto emotional speech set data/...</td>\n",
       "      <td>angry</td>\n",
       "    </tr>\n",
       "    <tr>\n",
       "      <th>...</th>\n",
       "      <td>...</td>\n",
       "      <td>...</td>\n",
       "    </tr>\n",
       "    <tr>\n",
       "      <th>12157</th>\n",
       "      <td>./Data/Savee/KL_su11.wav</td>\n",
       "      <td>surprised</td>\n",
       "    </tr>\n",
       "    <tr>\n",
       "      <th>12158</th>\n",
       "      <td>./Data/Savee/KL_su12.wav</td>\n",
       "      <td>surprised</td>\n",
       "    </tr>\n",
       "    <tr>\n",
       "      <th>12159</th>\n",
       "      <td>./Data/Savee/KL_su13.wav</td>\n",
       "      <td>surprised</td>\n",
       "    </tr>\n",
       "    <tr>\n",
       "      <th>12160</th>\n",
       "      <td>./Data/Savee/KL_su14.wav</td>\n",
       "      <td>surprised</td>\n",
       "    </tr>\n",
       "    <tr>\n",
       "      <th>12161</th>\n",
       "      <td>./Data/Savee/KL_su15.wav</td>\n",
       "      <td>surprised</td>\n",
       "    </tr>\n",
       "  </tbody>\n",
       "</table>\n",
       "<p>12162 rows × 2 columns</p>\n",
       "</div>"
      ],
      "text/plain": [
       "                                                    File      Label\n",
       "0      ./Data/TESS Toronto emotional speech set data/...      angry\n",
       "1      ./Data/TESS Toronto emotional speech set data/...      angry\n",
       "2      ./Data/TESS Toronto emotional speech set data/...      angry\n",
       "3      ./Data/TESS Toronto emotional speech set data/...      angry\n",
       "4      ./Data/TESS Toronto emotional speech set data/...      angry\n",
       "...                                                  ...        ...\n",
       "12157                           ./Data/Savee/KL_su11.wav  surprised\n",
       "12158                           ./Data/Savee/KL_su12.wav  surprised\n",
       "12159                           ./Data/Savee/KL_su13.wav  surprised\n",
       "12160                           ./Data/Savee/KL_su14.wav  surprised\n",
       "12161                           ./Data/Savee/KL_su15.wav  surprised\n",
       "\n",
       "[12162 rows x 2 columns]"
      ]
     },
     "execution_count": 179,
     "metadata": {},
     "output_type": "execute_result"
    }
   ],
   "source": [
    "speach_data = pd.read_csv('./Data/datset1.csv')\n",
    "speach_data"
   ]
  },
  {
   "cell_type": "code",
   "execution_count": null,
   "id": "ed61294f-9daa-40da-81bd-1d9c7b20c3c0",
   "metadata": {},
   "outputs": [],
   "source": []
  }
 ],
 "metadata": {
  "kernelspec": {
   "display_name": "Python 3 (ipykernel)",
   "language": "python",
   "name": "python3"
  },
  "language_info": {
   "codemirror_mode": {
    "name": "ipython",
    "version": 3
   },
   "file_extension": ".py",
   "mimetype": "text/x-python",
   "name": "python",
   "nbconvert_exporter": "python",
   "pygments_lexer": "ipython3",
   "version": "3.10.11"
  }
 },
 "nbformat": 4,
 "nbformat_minor": 5
}
