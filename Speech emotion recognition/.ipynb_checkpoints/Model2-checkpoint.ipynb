{
 "cells": [
  {
   "cell_type": "markdown",
   "id": "54ebf4d4-dd52-4813-bb68-69d197b67a25",
   "metadata": {},
   "source": [
    "# Model 2 \n",
    "Trying to use more data from different data sets "
   ]
  },
  {
   "cell_type": "code",
   "execution_count": 3,
   "id": "f5a23a54-07b7-4118-abd2-15abc1151953",
   "metadata": {},
   "outputs": [],
   "source": [
    "import pandas as pd\n",
    "import numpy as np\n",
    "\n",
    "import os\n",
    "import sys\n",
    "\n",
    "#Libros for sound analysis\n",
    "import librosa\n",
    "import librosa.display \n",
    "import seaborn as sns\n",
    "import matplotlib.pyplot as plt\n",
    "\n",
    "#To play audio\n",
    "import IPython.display as ipd\n",
    "from IPython.display import Audio\n",
    "\n",
    "import tensorflow as tf \n",
    "\n",
    "import warnings\n",
    "if not sys.warnoptions:\n",
    "    warnings.simplefilter(\"ignore\")\n",
    "warnings.filterwarnings(\"ignore\", category=DeprecationWarning) \n"
   ]
  },
  {
   "cell_type": "markdown",
   "id": "3d60f261-6a12-4def-ad18-bce5016b4865",
   "metadata": {},
   "source": [
    "## Load Data"
   ]
  },
  {
   "cell_type": "markdown",
   "id": "c9fc945a-5b9d-47a8-ad98-67dafe11f5d0",
   "metadata": {},
   "source": [
    "### TESS"
   ]
  },
  {
   "cell_type": "code",
   "execution_count": 11,
   "id": "49662791-de29-4c21-9cef-2b91f44ba28b",
   "metadata": {},
   "outputs": [],
   "source": [
    "#Function from previous attempts\n",
    "def load_data(location: str):\n",
    "    path = []\n",
    "    labels = []\n",
    "    for dirname, _, filenames in os.walk(location):\n",
    "        for filename in filenames:\n",
    "            path.append(os.path.join(dirname,filename))\n",
    "            label = filename.split('_')[-1]\n",
    "            label = label.split('.')[0]\n",
    "            labels.append(label.lower())\n",
    "    df = pd.DataFrame() \n",
    "    df['File'] = path\n",
    "    df['Label'] = labels\n",
    "    return df"
   ]
  },
  {
   "cell_type": "code",
   "execution_count": 7,
   "id": "fc9cb4fe-fa94-4c83-b032-8d7c9074369a",
   "metadata": {},
   "outputs": [],
   "source": [
    "data_location = './Data/TESS Toronto emotional speech set data/'"
   ]
  },
  {
   "cell_type": "code",
   "execution_count": 10,
   "id": "dfd41a31-9e05-46ac-8b64-680d71b761d4",
   "metadata": {},
   "outputs": [
    {
     "data": {
      "text/html": [
       "<div>\n",
       "<style scoped>\n",
       "    .dataframe tbody tr th:only-of-type {\n",
       "        vertical-align: middle;\n",
       "    }\n",
       "\n",
       "    .dataframe tbody tr th {\n",
       "        vertical-align: top;\n",
       "    }\n",
       "\n",
       "    .dataframe thead th {\n",
       "        text-align: right;\n",
       "    }\n",
       "</style>\n",
       "<table border=\"1\" class=\"dataframe\">\n",
       "  <thead>\n",
       "    <tr style=\"text-align: right;\">\n",
       "      <th></th>\n",
       "      <th>File</th>\n",
       "      <th>Label</th>\n",
       "    </tr>\n",
       "  </thead>\n",
       "  <tbody>\n",
       "    <tr>\n",
       "      <th>0</th>\n",
       "      <td>./Data/TESS Toronto emotional speech set data/...</td>\n",
       "      <td>angry</td>\n",
       "    </tr>\n",
       "    <tr>\n",
       "      <th>1</th>\n",
       "      <td>./Data/TESS Toronto emotional speech set data/...</td>\n",
       "      <td>angry</td>\n",
       "    </tr>\n",
       "    <tr>\n",
       "      <th>2</th>\n",
       "      <td>./Data/TESS Toronto emotional speech set data/...</td>\n",
       "      <td>angry</td>\n",
       "    </tr>\n",
       "    <tr>\n",
       "      <th>3</th>\n",
       "      <td>./Data/TESS Toronto emotional speech set data/...</td>\n",
       "      <td>angry</td>\n",
       "    </tr>\n",
       "    <tr>\n",
       "      <th>4</th>\n",
       "      <td>./Data/TESS Toronto emotional speech set data/...</td>\n",
       "      <td>angry</td>\n",
       "    </tr>\n",
       "    <tr>\n",
       "      <th>...</th>\n",
       "      <td>...</td>\n",
       "      <td>...</td>\n",
       "    </tr>\n",
       "    <tr>\n",
       "      <th>2795</th>\n",
       "      <td>./Data/TESS Toronto emotional speech set data/...</td>\n",
       "      <td>sad</td>\n",
       "    </tr>\n",
       "    <tr>\n",
       "      <th>2796</th>\n",
       "      <td>./Data/TESS Toronto emotional speech set data/...</td>\n",
       "      <td>sad</td>\n",
       "    </tr>\n",
       "    <tr>\n",
       "      <th>2797</th>\n",
       "      <td>./Data/TESS Toronto emotional speech set data/...</td>\n",
       "      <td>sad</td>\n",
       "    </tr>\n",
       "    <tr>\n",
       "      <th>2798</th>\n",
       "      <td>./Data/TESS Toronto emotional speech set data/...</td>\n",
       "      <td>sad</td>\n",
       "    </tr>\n",
       "    <tr>\n",
       "      <th>2799</th>\n",
       "      <td>./Data/TESS Toronto emotional speech set data/...</td>\n",
       "      <td>sad</td>\n",
       "    </tr>\n",
       "  </tbody>\n",
       "</table>\n",
       "<p>2800 rows × 2 columns</p>\n",
       "</div>"
      ],
      "text/plain": [
       "                                                   File  Label\n",
       "0     ./Data/TESS Toronto emotional speech set data/...  angry\n",
       "1     ./Data/TESS Toronto emotional speech set data/...  angry\n",
       "2     ./Data/TESS Toronto emotional speech set data/...  angry\n",
       "3     ./Data/TESS Toronto emotional speech set data/...  angry\n",
       "4     ./Data/TESS Toronto emotional speech set data/...  angry\n",
       "...                                                 ...    ...\n",
       "2795  ./Data/TESS Toronto emotional speech set data/...    sad\n",
       "2796  ./Data/TESS Toronto emotional speech set data/...    sad\n",
       "2797  ./Data/TESS Toronto emotional speech set data/...    sad\n",
       "2798  ./Data/TESS Toronto emotional speech set data/...    sad\n",
       "2799  ./Data/TESS Toronto emotional speech set data/...    sad\n",
       "\n",
       "[2800 rows x 2 columns]"
      ]
     },
     "execution_count": 10,
     "metadata": {},
     "output_type": "execute_result"
    }
   ],
   "source": [
    "load_data(data_location)"
   ]
  },
  {
   "cell_type": "markdown",
   "id": "d9191dd3-1e5d-490f-81f4-63d26b1e68ba",
   "metadata": {},
   "source": [
    "### Ravdess"
   ]
  },
  {
   "cell_type": "code",
   "execution_count": 12,
   "id": "f17f86ad-38a5-458a-a660-a3f09d945c3d",
   "metadata": {},
   "outputs": [],
   "source": [
    "ravdess = \"./Data/Ravdess/audio_speech_actors_01-24/\"\n",
    "ravdes_directory_list = os.listdir(ravdess)"
   ]
  },
  {
   "cell_type": "code",
   "execution_count": null,
   "id": "60328f05-d48f-474d-9d5d-9c5ee614b795",
   "metadata": {},
   "outputs": [],
   "source": [
    "ravdess_labels = []\n",
    "ravdess_path = []\n",
    "for i in ravdes_directory_list:\n",
    "    actor = os.listdir(ravdess + i)\n",
    "    for f in actor:\n",
    "        part = f."
   ]
  }
 ],
 "metadata": {
  "kernelspec": {
   "display_name": "Python 3 (ipykernel)",
   "language": "python",
   "name": "python3"
  },
  "language_info": {
   "codemirror_mode": {
    "name": "ipython",
    "version": 3
   },
   "file_extension": ".py",
   "mimetype": "text/x-python",
   "name": "python",
   "nbconvert_exporter": "python",
   "pygments_lexer": "ipython3",
   "version": "3.10.11"
  }
 },
 "nbformat": 4,
 "nbformat_minor": 5
}
